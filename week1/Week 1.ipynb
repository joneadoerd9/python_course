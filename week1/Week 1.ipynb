{
 "cells": [
  {
   "cell_type": "markdown",
   "metadata": {},
   "source": [
    "# Week 1, Session 1: Introduction to Python\n",
    "\n",
    "## Writing Your First Python Program\n",
    "\n",
    "Let's start with the classic \"Hello, World!\" program, which is a simple program that prints \"Hello, World!\" to the screen.\n"
   ]
  },
  {
   "cell_type": "markdown",
   "metadata": {},
   "source": [
    "## Variables and Data Types\n",
    "\n",
    "Python supports various data types, including integers, floats, strings, and booleans.\n",
    "\n",
    "### Variables\n",
    "\n",
    "Variables are used to store data that can be used later in your program. You can assign a value to a variable using the equals (`=`) sign.\n"
   ]
  },
  {
   "cell_type": "code",
   "execution_count": null,
   "metadata": {},
   "outputs": [],
   "source": [
    "# Assigning values to variables\n",
    "age = 30\n",
    "height = 5.5\n",
    "name = \"Alice\"\n",
    "is_student = True\n"
   ]
  },
  {
   "cell_type": "markdown",
   "metadata": {},
   "source": [
    "### Data Types\n",
    "\n",
    "- **Integer:** Whole numbers, e.g., `30`\n",
    "- **Float:** Numbers with a decimal point, e.g., `5.5`\n",
    "- **String:** Sequence of characters, e.g., `\"Alice\"`\n",
    "- **Boolean:** Represents `True` or `False`\n"
   ]
  },
  {
   "cell_type": "code",
   "execution_count": null,
   "metadata": {},
   "outputs": [],
   "source": [
    "# Displaying the types of variables\n",
    "print(type(age))       # <class 'int'>\n",
    "print(type(height))    # <class 'float'>\n",
    "print(type(name))      # <class 'str'>\n",
    "print(type(is_student))# <class 'bool'>\n"
   ]
  },
  {
   "cell_type": "markdown",
   "metadata": {},
   "source": [
    "## Basic Operators\n",
    "\n",
    "Python supports various operators for performing calculations and operations on variables.\n",
    "\n",
    "### Arithmetic Operators\n",
    "\n",
    "- **Addition (`+`)**\n",
    "- **Subtraction (`-`)**\n",
    "- **Multiplication (`*`)**\n",
    "- **Division (`/`)**\n",
    "- **Modulus (`%`)**: Remainder of a division\n",
    "- **Exponentiation (`**`)**: Raising a number to a power\n",
    "- **Floor Division (`//`)**: Division that returns the integer part\n"
   ]
  },
  {
   "cell_type": "code",
   "execution_count": null,
   "metadata": {},
   "outputs": [],
   "source": [
    "a = 10\n",
    "b = 3\n",
    "\n",
    "print(a + b)  # 13\n",
    "print(a - b)  # 7\n",
    "print(a * b)  # 30\n",
    "print(a / b)  # 3.3333333333333335\n",
    "print(a % b)  # 1\n",
    "print(a ** b) # 1000\n",
    "print(a // b) # 3\n"
   ]
  },
  {
   "cell_type": "markdown",
   "metadata": {},
   "source": [
    "### Comparison Operators\n",
    "\n",
    "- **Equal (`==`)**\n",
    "- **Not Equal (`!=`)**\n",
    "- **Greater Than (`>`)**\n",
    "- **Less Than (`<`)**\n",
    "- **Greater Than or Equal To (`>=`)**\n",
    "- **Less Than or Equal To (`<=`)**\n"
   ]
  },
  {
   "cell_type": "code",
   "execution_count": null,
   "metadata": {},
   "outputs": [],
   "source": [
    "x = 10\n",
    "y = 5\n",
    "\n",
    "print(x == y)  # False\n",
    "print(x != y)  # True\n",
    "print(x > y)   # True\n",
    "print(x < y)   # False\n",
    "print(x >= y)  # True\n",
    "print(x <= y)  # False\n"
   ]
  },
  {
   "cell_type": "markdown",
   "metadata": {},
   "source": [
    "### Logical Operators\n",
    "\n",
    "- **AND (`and`)**: Returns `True` if both statements are true\n",
    "- **OR (`or`)**: Returns `True` if one of the statements is true\n",
    "- **NOT (`not`)**: Reverses the result, returns `False` if the result is true\n"
   ]
  },
  {
   "cell_type": "code",
   "execution_count": null,
   "metadata": {},
   "outputs": [],
   "source": [
    "p = True\n",
    "q = False\n",
    "\n",
    "print(p and q)  # False\n",
    "print(p or q)   # True\n",
    "print(not p)    # False\n"
   ]
  },
  {
   "cell_type": "markdown",
   "metadata": {},
   "source": [
    "\n",
    "\n",
    "## Introduction to Lists\n",
    "\n",
    "A list is a collection of items in a particular order. You can create a list by placing all the items (elements) inside square brackets `[]`, separated by commas.\n"
   ]
  },
  {
   "cell_type": "code",
   "execution_count": null,
   "metadata": {},
   "outputs": [],
   "source": [
    "# Example of a list\n",
    "fruits = [\"apple\", \"banana\", \"cherry\"]\n",
    "print(fruits)\n"
   ]
  },
  {
   "cell_type": "markdown",
   "metadata": {},
   "source": [
    "## Accessing Elements in a List\n",
    "\n",
    "You can access individual elements in a list by referring to their index number. Note that list indices start at 0.\n"
   ]
  },
  {
   "cell_type": "code",
   "execution_count": null,
   "metadata": {},
   "outputs": [],
   "source": [
    "# Accessing elements\n",
    "print(fruits[0])  # Output: apple\n",
    "print(fruits[1])  # Output: banana\n",
    "print(fruits[2])  # Output: cherry\n"
   ]
  },
  {
   "cell_type": "markdown",
   "metadata": {},
   "source": [
    "## Modifying Elements in a List\n",
    "\n",
    "You can change the value of a specific element in a list by referring to the index number.\n"
   ]
  },
  {
   "cell_type": "code",
   "execution_count": null,
   "metadata": {},
   "outputs": [],
   "source": [
    "# Modifying elements\n",
    "fruits[1] = \"blueberry\"\n",
    "print(fruits)  # Output: ['apple', 'blueberry', 'cherry']\n"
   ]
  },
  {
   "cell_type": "markdown",
   "metadata": {},
   "source": [
    "## Adding Elements to a List\n",
    "\n",
    "You can add new elements to a list using the `append()` method or the `insert()` method.\n"
   ]
  },
  {
   "cell_type": "code",
   "execution_count": null,
   "metadata": {},
   "outputs": [],
   "source": [
    "# Adding elements\n",
    "fruits.append(\"orange\")\n",
    "print(fruits)  # Output: ['apple', 'blueberry', 'cherry', 'orange']\n",
    "\n",
    "fruits.insert(1, \"kiwi\")\n",
    "print(fruits)  # Output: ['apple', 'kiwi', 'blueberry', 'cherry', 'orange']\n"
   ]
  },
  {
   "cell_type": "markdown",
   "metadata": {},
   "source": [
    "## Removing Elements from a List\n",
    "\n",
    "You can remove elements from a list using the `del` statement, the `remove()` method, or the `pop()` method.\n"
   ]
  },
  {
   "cell_type": "code",
   "execution_count": null,
   "metadata": {},
   "outputs": [],
   "source": [
    "# Removing elements\n",
    "del fruits[1]\n",
    "print(fruits)  # Output: ['apple', 'blueberry', 'cherry', 'orange']\n",
    "\n",
    "fruits.remove(\"blueberry\")\n",
    "print(fruits)  # Output: ['apple', 'cherry', 'orange']\n",
    "\n",
    "popped_fruit = fruits.pop()\n",
    "print(popped_fruit)  # Output: orange\n",
    "print(fruits)        # Output: ['apple', 'cherry']\n"
   ]
  },
  {
   "cell_type": "markdown",
   "metadata": {},
   "source": [
    "## List Slicing\n",
    "\n",
    "You can access a range of elements in a list by using a slice. A slice is made using the colon `:` operator.\n"
   ]
  },
  {
   "cell_type": "code",
   "execution_count": null,
   "metadata": {},
   "outputs": [],
   "source": [
    "# List slicing\n",
    "fruits = [\"apple\", \"banana\", \"cherry\", \"date\", \"elderberry\"]\n",
    "print(fruits[1:3])  # Output: ['banana', 'cherry']\n",
    "print(fruits[:2])   # Output: ['apple', 'banana']\n",
    "print(fruits[2:])   # Output: ['cherry', 'date', 'elderberry']\n",
    "print(fruits[-3:])  # Output: ['cherry', 'date', 'elderberry']\n"
   ]
  },
  {
   "cell_type": "markdown",
   "metadata": {},
   "source": [
    "## Common List Methods\n",
    "\n",
    "Lists have several built-in methods that make common tasks easier.\n"
   ]
  },
  {
   "cell_type": "code",
   "execution_count": null,
   "metadata": {},
   "outputs": [],
   "source": [
    "# List methods\n",
    "numbers = [3, 1, 4, 1, 5, 9, 2, 6, 5]\n",
    "\n",
    "numbers.sort()\n",
    "print(numbers)  # Output: [1, 1, 2, 3, 4, 5, 5, 6, 9]\n",
    "\n",
    "numbers.sort(reverse=True)\n",
    "print(numbers)  # Output: [9, 6, 5, 5, 4, 3, 2, 1, 1]\n",
    "\n",
    "numbers.reverse()\n",
    "print(numbers)  # Output: [1, 1, 2, 3, 4, 5, 5, 6, 9]\n",
    "\n",
    "print(len(numbers))  # Output: 9\n"
   ]
  },
  {
   "cell_type": "markdown",
   "metadata": {},
   "source": [
    "## Input and Output\n",
    "\n",
    "### Output\n",
    "\n",
    "Use the `print()` function to display output.\n"
   ]
  },
  {
   "cell_type": "code",
   "execution_count": null,
   "metadata": {},
   "outputs": [],
   "source": [
    "print(\"Hello, World!\")\n",
    "print(\"My name is\", name)\n",
    "print(f\"I am {age} years old.\")\n"
   ]
  },
  {
   "cell_type": "markdown",
   "metadata": {},
   "source": [
    "### Input\n",
    "\n",
    "Use the `input()` function to get user input. The input is always returned as a string, so you may need to convert it to another type.\n"
   ]
  },
  {
   "cell_type": "code",
   "execution_count": null,
   "metadata": {},
   "outputs": [],
   "source": [
    "user_name = input(\"Enter your name: \")\n",
    "print(f\"Hello, {user_name}!\")\n",
    "\n",
    "age = int(input(\"Enter your age: \"))\n",
    "print(f\"You are {age} years old.\")\n"
   ]
  },
  {
   "cell_type": "markdown",
   "metadata": {},
   "source": [
    "\n",
    "## Output\n",
    "\n",
    "Use the `print()` function to display output.\n"
   ]
  },
  {
   "cell_type": "code",
   "execution_count": null,
   "metadata": {},
   "outputs": [],
   "source": [
    "print(\"Hello, World!\")\n",
    "print(\"My name is\", name)\n",
    "print(f\"I am {age} years old.\")\n"
   ]
  },
  {
   "cell_type": "markdown",
   "metadata": {},
   "source": [
    "## Input\n",
    "\n",
    "Use the `input()` function to get user input. The input is always returned as a string, so you may need to convert it to another type.\n"
   ]
  },
  {
   "cell_type": "code",
   "execution_count": null,
   "metadata": {},
   "outputs": [],
   "source": [
    "user_name = input(\"Enter your name: \")\n",
    "print(f\"Hello, {user_name}!\")\n",
    "\n",
    "age = int(input(\"Enter your age: \"))\n",
    "print(\"You are {} years old.\".format(age))\n",
    "print(f\"You are {age} years old.\")\n"
   ]
  },
  {
   "cell_type": "markdown",
   "metadata": {},
   "source": [
    "\n",
    "\n",
    "## If Statements\n",
    "\n",
    "The if statement is used to test a specific condition. If the condition is true, a block of code will be executed.\n",
    "\n",
    "### Syntax\n",
    "```python\n",
    "if condition:\n",
    "    pass    # code to execute if condition is true\n",
    "```\n",
    "### Example\n"
   ]
  },
  {
   "cell_type": "code",
   "execution_count": null,
   "metadata": {},
   "outputs": [],
   "source": [
    "age = 18\n",
    "\n",
    "if age >= 18:\n",
    "    print(\"You are an adult.\")\n",
    "else:\n",
    "    print(\"You are a minor.\")\n"
   ]
  },
  {
   "cell_type": "markdown",
   "metadata": {},
   "source": [
    "## Loops\n",
    "\n",
    "Loops are used to repeat a block of code multiple times.\n",
    "\n",
    "### While Loop\n",
    "\n",
    "The while loop repeats a block of code as long as a condition is true.\n",
    "\n",
    "### Syntax\n",
    "```python\n",
    "while condition:\n",
    "    # code to execute as long as condition is true\n",
    "\n",
    "```\n",
    "### Example\n"
   ]
  },
  {
   "cell_type": "code",
   "execution_count": null,
   "metadata": {},
   "outputs": [],
   "source": [
    "count = 0\n",
    "\n",
    "while count < 5:\n",
    "    print(\"Count:\", count)\n",
    "    count += 1\n"
   ]
  },
  {
   "cell_type": "markdown",
   "metadata": {},
   "source": [
    "# What is a `for` loop?\n",
    "A for loop is used for iterating over a sequence (that is either a list, a tuple, a dictionary, a set, or a string).\n",
    "```python\n",
    "for x in range(5):\n",
    "    print(x)\n",
    "```\n",
    "---\n",
    "```python\n",
    "friends = ['Taylor', 'Alex', 'Pat', 'Eli']\n",
    "for friend in friends:\n",
    "    print(\"Hi \" + friend)\n",
    "```\n",
    "---"
   ]
  },
  {
   "cell_type": "code",
   "execution_count": 8,
   "metadata": {},
   "outputs": [
    {
     "name": "stdout",
     "output_type": "stream",
     "text": [
      "Total sum: 219 - Average: 43.8\n"
     ]
    }
   ],
   "source": [
    "values = [ 23, 52, 59, 37, 48 ]\n",
    "sum = 0\n",
    "length = 0\n",
    "for value in values:\n",
    "    sum += value\n",
    "    length += 1\n",
    "\n",
    "print(\"Total sum: \" + str(sum) + \" - Average: \" + str(sum/length))"
   ]
  },
  {
   "cell_type": "markdown",
   "metadata": {},
   "source": [
    "\n",
    "\n",
    "## A Closer Look at the Range() Function\n",
    "The `in` keyword, when used with the `range()` function, generates a sequence of integer numbers, \n",
    "which can be used with a `for `loop to control the start point, the end point, and the incremental values of the loop.  \n",
    "\n",
    "```python\n",
    "for n in range(x, y, z):\n",
    "    print(n)\n",
    "\n",
    "```\n",
    "## Practice Exercise\n",
    "You can use the code block below to test the values of n with various range() parameters. A few suggestions to test are:\n",
    "\n",
    "- range(stop)\n",
    "\n",
    "    - range(3) \n",
    "\n",
    "    - range(3+1) \n",
    "\n",
    "- range(start, stop)\n",
    "\n",
    "    - range(2, 6)     \n",
    "\n",
    "    - range(5,10+1) \n",
    "\n",
    "- range(start, stop, step)\n",
    "\n",
    "    - range(4, 15+1, 2)         \n",
    "\n",
    "    - range(2*2, 25, 3+2) \n",
    "\n",
    "    - range(10, 0, -2)  "
   ]
  },
  {
   "cell_type": "markdown",
   "metadata": {},
   "source": [
    "## A lambda function is a small anonymous function.\n",
    "\n",
    "A lambda function can take any number of arguments, but can only have one expression.\n",
    "### Syntax\n",
    "lambda arguments : expression"
   ]
  },
  {
   "cell_type": "code",
   "execution_count": 9,
   "metadata": {},
   "outputs": [
    {
     "name": "stdout",
     "output_type": "stream",
     "text": [
      "15\n"
     ]
    }
   ],
   "source": [
    "x = lambda a : a + 10\n",
    "print(x(5))"
   ]
  },
  {
   "cell_type": "code",
   "execution_count": null,
   "metadata": {},
   "outputs": [],
   "source": []
  }
 ],
 "metadata": {
  "kernelspec": {
   "display_name": "rptodo-project",
   "language": "python",
   "name": "python3"
  },
  "language_info": {
   "codemirror_mode": {
    "name": "ipython",
    "version": 3
   },
   "file_extension": ".py",
   "mimetype": "text/x-python",
   "name": "python",
   "nbconvert_exporter": "python",
   "pygments_lexer": "ipython3",
   "version": "3.11.4"
  }
 },
 "nbformat": 4,
 "nbformat_minor": 2
}

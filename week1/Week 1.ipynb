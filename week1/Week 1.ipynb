{
 "cells": [
  {
   "cell_type": "markdown",
   "metadata": {},
   "source": [
    "# Week 1, Session 1: Introduction to Python\n",
    "\n",
    "## Writing Your First Python Program\n",
    "\n",
    "Let's start with the classic \"Hello, World!\" program, which is a simple program that prints \"Hello, World!\" to the screen.\n"
   ]
  },
  {
   "cell_type": "markdown",
   "metadata": {},
   "source": [
    "## Variables and Data Types\n",
    "\n",
    "Python supports various data types, including integers, floats, strings, and booleans.\n",
    "\n",
    "### Variables\n",
    "\n",
    "Variables are used to store data that can be used later in your program. You can assign a value to a variable using the equals (`=`) sign.\n"
   ]
  },
  {
   "cell_type": "code",
   "execution_count": null,
   "metadata": {},
   "outputs": [],
   "source": [
    "# Assigning values to variables\n",
    "age = 30\n",
    "height = 5.5\n",
    "name = \"Alice\"\n",
    "is_student = True\n"
   ]
  },
  {
   "cell_type": "markdown",
   "metadata": {},
   "source": [
    "### Data Types\n",
    "\n",
    "- **Integer:** Whole numbers, e.g., `30`\n",
    "- **Float:** Numbers with a decimal point, e.g., `5.5`\n",
    "- **String:** Sequence of characters, e.g., `\"Alice\"`\n",
    "- **Boolean:** Represents `True` or `False`\n"
   ]
  },
  {
   "cell_type": "code",
   "execution_count": null,
   "metadata": {},
   "outputs": [],
   "source": [
    "# Displaying the types of variables\n",
    "print(type(age))       # <class 'int'>\n",
    "print(type(height))    # <class 'float'>\n",
    "print(type(name))      # <class 'str'>\n",
    "print(type(is_student))# <class 'bool'>\n"
   ]
  },
  {
   "cell_type": "markdown",
   "metadata": {},
   "source": [
    "## Basic Operators\n",
    "\n",
    "Python supports various operators for performing calculations and operations on variables.\n",
    "\n",
    "### Arithmetic Operators\n",
    "\n",
    "- **Addition (`+`)**\n",
    "- **Subtraction (`-`)**\n",
    "- **Multiplication (`*`)**\n",
    "- **Division (`/`)**\n",
    "- **Modulus (`%`)**: Remainder of a division\n",
    "- **Exponentiation (`**`)**: Raising a number to a power\n",
    "- **Floor Division (`//`)**: Division that returns the integer part\n"
   ]
  },
  {
   "cell_type": "code",
   "execution_count": null,
   "metadata": {},
   "outputs": [],
   "source": [
    "a = 10\n",
    "b = 3\n",
    "\n",
    "print(a + b)  # 13\n",
    "print(a - b)  # 7\n",
    "print(a * b)  # 30\n",
    "print(a / b)  # 3.3333333333333335\n",
    "print(a % b)  # 1\n",
    "print(a ** b) # 1000\n",
    "print(a // b) # 3\n"
   ]
  },
  {
   "cell_type": "markdown",
   "metadata": {},
   "source": [
    "### Comparison Operators\n",
    "\n",
    "- **Equal (`==`)**\n",
    "- **Not Equal (`!=`)**\n",
    "- **Greater Than (`>`)**\n",
    "- **Less Than (`<`)**\n",
    "- **Greater Than or Equal To (`>=`)**\n",
    "- **Less Than or Equal To (`<=`)**\n"
   ]
  },
  {
   "cell_type": "code",
   "execution_count": null,
   "metadata": {},
   "outputs": [],
   "source": [
    "x = 10\n",
    "y = 5\n",
    "\n",
    "print(x == y)  # False\n",
    "print(x != y)  # True\n",
    "print(x > y)   # True\n",
    "print(x < y)   # False\n",
    "print(x >= y)  # True\n",
    "print(x <= y)  # False\n"
   ]
  },
  {
   "cell_type": "markdown",
   "metadata": {},
   "source": [
    "### Logical Operators\n",
    "\n",
    "- **AND (`and`)**: Returns `True` if both statements are true\n",
    "- **OR (`or`)**: Returns `True` if one of the statements is true\n",
    "- **NOT (`not`)**: Reverses the result, returns `False` if the result is true\n"
   ]
  },
  {
   "cell_type": "code",
   "execution_count": null,
   "metadata": {},
   "outputs": [],
   "source": [
    "p = True\n",
    "q = False\n",
    "\n",
    "print(p and q)  # False\n",
    "print(p or q)   # True\n",
    "print(not p)    # False\n"
   ]
  },
  {
   "cell_type": "markdown",
   "metadata": {},
   "source": [
    "## Input and Output\n",
    "\n",
    "### Output\n",
    "\n",
    "Use the `print()` function to display output.\n"
   ]
  },
  {
   "cell_type": "code",
   "execution_count": null,
   "metadata": {},
   "outputs": [],
   "source": [
    "print(\"Hello, World!\")\n",
    "print(\"My name is\", name)\n",
    "print(f\"I am {age} years old.\")\n"
   ]
  },
  {
   "cell_type": "markdown",
   "metadata": {},
   "source": [
    "### Input\n",
    "\n",
    "Use the `input()` function to get user input. The input is always returned as a string, so you may need to convert it to another type.\n"
   ]
  },
  {
   "cell_type": "code",
   "execution_count": null,
   "metadata": {},
   "outputs": [],
   "source": [
    "user_name = input(\"Enter your name: \")\n",
    "print(f\"Hello, {user_name}!\")\n",
    "\n",
    "age = int(input(\"Enter your age: \"))\n",
    "print(f\"You are {age} years old.\")\n"
   ]
  },
  {
   "cell_type": "markdown",
   "metadata": {},
   "source": [
    "## Practice Exercises\n",
    "\n",
    "### Exercise 1: Hello, World!\n",
    "\n",
    "Write a program that prints \"Hello, [Your Name]!\"\n",
    "\n",
    "### Exercise 2: Simple Math Operations\n",
    "\n",
    "Assign values to two variables and perform addition, subtraction, multiplication, division, modulus, exponentiation, and floor division. Print the results.\n",
    "\n",
    "### Exercise 3: Data Types Exploration\n",
    "\n",
    "Create variables of different types (integer, float, string, boolean) and print their values and types.\n",
    "\n",
    "### Exercise 4: Comparisons\n",
    "\n",
    "Write a program that compares two numbers and prints the results of the comparison operations (==, !=, >, <, >=, <=).\n",
    "\n",
    "### Exercise 5: Logical Operations\n",
    "\n",
    "Write a program that evaluates different logical expressions using `and`, `or`, and `not` operators and prints the results.\n"
   ]
  },
  {
   "cell_type": "markdown",
   "metadata": {},
   "source": []
  }
 ],
 "metadata": {
  "kernelspec": {
   "display_name": "rptodo-project",
   "language": "python",
   "name": "python3"
  },
  "language_info": {
   "codemirror_mode": {
    "name": "ipython",
    "version": 3
   },
   "file_extension": ".py",
   "mimetype": "text/x-python",
   "name": "python",
   "nbconvert_exporter": "python",
   "pygments_lexer": "ipython3",
   "version": "3.11.4"
  }
 },
 "nbformat": 4,
 "nbformat_minor": 2
}

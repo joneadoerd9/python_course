{
 "cells": [
  {
   "cell_type": "markdown",
   "metadata": {},
   "source": [
    "# Introduction to Python\n",
    "\n",
    "Python is a high-level, interpreted programming language known for its simplicity and readability. Created by Guido van Rossum and first released in 1991, Python emphasizes code readability and allows programmers to express concepts in fewer lines of code compared to languages like C++ or Java.\n",
    "\n",
    "## Key Features of Python:\n",
    "- **Simple and Readable Syntax**\n",
    "- **Interpreted Language**\n",
    "- **Dynamically Typed**\n",
    "- **High-Level Language**\n",
    "- **Extensive Standard Library**\n",
    "- **Versatile and Multipurpose**\n",
    "- **Large Community and Ecosystem**\n",
    "\n",
    "## Installing Python or Ananconda3\n",
    "To install Python, download the latest version from [python.org](https://www.python.org/downloads/).\n",
    "\n",
    "\n",
    "\n"
   ]
  },
  {
   "cell_type": "markdown",
   "metadata": {},
   "source": [
    "# **Set Up the Working Environment**\n",
    "Now you know how to manage multiple Python versions. Often, you’ll be working on multiple projects that need the same Python version.\n",
    "1. ### **create project folder and enter it:**"
   ]
  },
  {
   "cell_type": "code",
   "execution_count": null,
   "metadata": {},
   "outputs": [],
   "source": [
    "!mkdir rptodo_project\n",
    "# !cd rptodo_project\n",
    "# !dir\n",
    "# !Powershell.exe -Command ls"
   ]
  },
  {
   "cell_type": "markdown",
   "metadata": {},
   "source": [
    "2. ### **create virtual Env**\n",
    "   ### **venv**\n",
    "`venv` ships with Python versions 3.3+. You can create virtual environments just by passing it a path at which to store the environment’s python, installed packages, and so on:\n",
    "\n",
    "```pwsh\n",
    "  python -m venv env --prompt \"my-project\"\n",
    "```\n",
    "\n",
    "You activate a virtual environment by sourcing its activate script:\n",
    "\n",
    "```pwsh\n",
    "  env/Scripts/activate\n",
    "\n",
    "  source env/Scripts/activate    \n",
    "```\n"
   ]
  },
  {
   "cell_type": "code",
   "execution_count": null,
   "metadata": {},
   "outputs": [],
   "source": [
    "!cd rptodo_project\n",
    "!python -m venv env --prompt \"my-project\"\n",
    "!env/Scripts/activate"
   ]
  },
  {
   "cell_type": "markdown",
   "metadata": {},
   "source": [
    "   ### **Conda**\n",
    "   // Create virtual environment\n",
    "```pwsh\n",
    "   conda create --name rptodo-project --clone base\n",
    "   conda init \"powershell\"\n",
    "   conda activate rptodo-project\n",
    "```\n"
   ]
  },
  {
   "cell_type": "markdown",
   "metadata": {},
   "source": [
    "\n",
    "\n",
    "## Basic Syntax and Data Types\n",
    "\n",
    "### Hello, World!\n",
    "Let's start with a simple \"Hello, World!\" program.\n",
    "\n",
    "```python\n",
    "print(\"Hello, World!\")"
   ]
  },
  {
   "cell_type": "markdown",
   "metadata": {},
   "source": [
    "## Variables and Data Types\n",
    "Python supports various data types, including integers, floats, strings, and booleans."
   ]
  },
  {
   "cell_type": "code",
   "execution_count": 1,
   "metadata": {},
   "outputs": [],
   "source": [
    "# Integer\n",
    "age = 30\n",
    "# Float\n",
    "height = 5.5\n",
    "# String\n",
    "name = \"Alice\"\n",
    "# Boolean\n",
    "is_student = True\n"
   ]
  },
  {
   "cell_type": "markdown",
   "metadata": {},
   "source": [
    "## Lists, Tuples, Sets, and Dictionaries\n",
    "Python includes several built-in data structures."
   ]
  },
  {
   "cell_type": "code",
   "execution_count": 2,
   "metadata": {},
   "outputs": [],
   "source": [
    "# List\n",
    "fruits = [\"apple\", \"banana\", \"cherry\"]\n",
    "# Tuple\n",
    "point = (10, 20)\n",
    "# Set\n",
    "unique_numbers = {1, 2, 3}\n",
    "# Dictionary\n",
    "person = {\"name\": \"Alice\", \"age\": 30}\n"
   ]
  },
  {
   "cell_type": "markdown",
   "metadata": {},
   "source": [
    "## Control Structures\n",
    "If-Else Statements"
   ]
  },
  {
   "cell_type": "code",
   "execution_count": 3,
   "metadata": {},
   "outputs": [
    {
     "name": "stdout",
     "output_type": "stream",
     "text": [
      "You are an adult.\n"
     ]
    }
   ],
   "source": [
    "if age > 18:\n",
    "    print(\"You are an adult.\")\n",
    "else:\n",
    "    print(\"You are a minor.\")\n"
   ]
  },
  {
   "cell_type": "markdown",
   "metadata": {},
   "source": [
    "## For and While Loops"
   ]
  },
  {
   "cell_type": "code",
   "execution_count": 4,
   "metadata": {},
   "outputs": [
    {
     "name": "stdout",
     "output_type": "stream",
     "text": [
      "apple\n",
      "banana\n",
      "cherry\n",
      "0\n",
      "1\n",
      "2\n",
      "3\n",
      "4\n"
     ]
    }
   ],
   "source": [
    "# For Loop\n",
    "for fruit in fruits:\n",
    "    print(fruit)\n",
    "\n",
    "# While Loop\n",
    "count = 0\n",
    "while count < 5:\n",
    "    print(count)\n",
    "    count += 1\n"
   ]
  },
  {
   "cell_type": "markdown",
   "metadata": {},
   "source": [
    "## Functions"
   ]
  },
  {
   "cell_type": "code",
   "execution_count": 5,
   "metadata": {},
   "outputs": [
    {
     "name": "stdout",
     "output_type": "stream",
     "text": [
      "Hello, Alice!\n"
     ]
    }
   ],
   "source": [
    "def greet(name):\n",
    "    return f\"Hello, {name}!\"\n",
    "\n",
    "print(greet(\"Alice\"))\n"
   ]
  },
  {
   "cell_type": "markdown",
   "metadata": {},
   "source": [
    "## Modules and Packages\n",
    "Python's modular approach allows you to organize your code into modules and packages."
   ]
  },
  {
   "cell_type": "code",
   "execution_count": 6,
   "metadata": {},
   "outputs": [
    {
     "name": "stdout",
     "output_type": "stream",
     "text": [
      "4.0\n"
     ]
    }
   ],
   "source": [
    "import math\n",
    "print(math.sqrt(16))\n"
   ]
  },
  {
   "cell_type": "markdown",
   "metadata": {},
   "source": [
    "## File I/O"
   ]
  },
  {
   "cell_type": "code",
   "execution_count": 7,
   "metadata": {},
   "outputs": [],
   "source": [
    "with open(\"example.txt\", \"w\") as file:\n",
    "    file.write(\"Hello, World!\")\n"
   ]
  },
  {
   "cell_type": "markdown",
   "metadata": {},
   "source": [
    "## Object-Oriented Programming (OOP)\n",
    "Python supports OOP, allowing you to create classes and objects."
   ]
  },
  {
   "cell_type": "code",
   "execution_count": 8,
   "metadata": {},
   "outputs": [
    {
     "name": "stdout",
     "output_type": "stream",
     "text": [
      "Hello, my name is Alice.\n"
     ]
    }
   ],
   "source": [
    "class Person:\n",
    "    def __init__(self, name, age):\n",
    "        self.name = name\n",
    "        self.age = age\n",
    "\n",
    "    def greet(self):\n",
    "        return f\"Hello, my name is {self.name}.\"\n",
    "\n",
    "person = Person(\"Alice\", 30)\n",
    "print(person.greet())\n"
   ]
  },
  {
   "cell_type": "markdown",
   "metadata": {},
   "source": [
    "## Libraries and Frameworks\n",
    "Python has a rich ecosystem of libraries and frameworks for various tasks:\n",
    "\n",
    "- Web Development: Django, Flask\n",
    "- Data Science: NumPy, Pandas, Matplotlib, SciPy\n",
    "- Machine Learning: TensorFlow, Keras, Scikit-learn\n",
    "- Web Scraping: Beautiful Soup, Scrapy"
   ]
  },
  {
   "cell_type": "markdown",
   "metadata": {},
   "source": [
    "## Learning Resources:\n",
    "Official Documentation: Python Docs\n",
    "Online Courses:\n",
    "- Codecademy\n",
    "- Coursera\n",
    "- edX\n",
    "## Books:\n",
    "- \"Python Crash Course\" by Eric Matthes\n",
    "- \"Automate the Boring Stuff with Python\" by Al Sweigart\n",
    "- \"Learning Python\" by Mark Lutz"
   ]
  },
  {
   "cell_type": "markdown",
   "metadata": {},
   "source": []
  }
 ],
 "metadata": {
  "kernelspec": {
   "display_name": "rptodo-project",
   "language": "python",
   "name": "python3"
  },
  "language_info": {
   "codemirror_mode": {
    "name": "ipython",
    "version": 3
   },
   "file_extension": ".py",
   "mimetype": "text/x-python",
   "name": "python",
   "nbconvert_exporter": "python",
   "pygments_lexer": "ipython3",
   "version": "3.11.4"
  }
 },
 "nbformat": 4,
 "nbformat_minor": 2
}

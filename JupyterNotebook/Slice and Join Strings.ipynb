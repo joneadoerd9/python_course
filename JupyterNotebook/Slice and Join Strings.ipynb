{
 "cells": [
  {
   "cell_type": "markdown",
   "metadata": {},
   "source": [
    "# Slice and Join Strings:\n",
    "## How to slice strings \n",
    "\n",
    "racket notation, `[ ]`, is used to specify the start of the index, ending index, or both.\n",
    "\n",
    "If you do not include the starting index, then the slice contains everything from the beginning of the string to the ending index.\n",
    "\n",
    "This is the same if you do not include the ending index. Let’s look at a couple of examples:"
   ]
  },
  {
   "cell_type": "code",
   "execution_count": null,
   "metadata": {},
   "outputs": [],
   "source": [
    "string1 = \"Greetings, Earthlings\"\n",
    "print(string1[0])   # Prints “G”\n",
    "print(string1[4:8]) # Prints “ting”\n",
    "print(string1[11:]) # Prints “Earthlings”\n",
    "print(string1[:5])  # Prints “Greet”"
   ]
  },
  {
   "cell_type": "code",
   "execution_count": null,
   "metadata": {},
   "outputs": [],
   "source": [
    "print(string1[-10:])    # Prints “Earthlings” again\n",
    "print(string1[55:])     # Prints “” \n",
    "print(string1[0::2])    # Prints “Getns atlns”\n",
    "print(string1[::-1])    # Prints “sgnilhtraE ,sgniteerG”"
   ]
  },
  {
   "cell_type": "markdown",
   "metadata": {},
   "source": [
    "# Basic String Methods"
   ]
  },
  {
   "cell_type": "code",
   "execution_count": 1,
   "metadata": {},
   "outputs": [
    {
     "data": {
      "text/plain": [
       "8"
      ]
     },
     "execution_count": 1,
     "metadata": {},
     "output_type": "execute_result"
    }
   ],
   "source": [
    "animals = \"lions tigers and bears\"\n",
    "animals.index(\"g\")"
   ]
  },
  {
   "cell_type": "code",
   "execution_count": 3,
   "metadata": {},
   "outputs": [
    {
     "data": {
      "text/plain": [
       "17"
      ]
     },
     "execution_count": 3,
     "metadata": {},
     "output_type": "execute_result"
    }
   ],
   "source": [
    "animals = \"lions tigers and bears\"\n",
    "animals.index(\"bears\")"
   ]
  },
  {
   "cell_type": "code",
   "execution_count": 8,
   "metadata": {},
   "outputs": [
    {
     "data": {
      "text/plain": [
       "False"
      ]
     },
     "execution_count": 8,
     "metadata": {},
     "output_type": "execute_result"
    }
   ],
   "source": [
    "animals = \"lions tigers and bears\"\n",
    "\"horses\" in animals\n",
    "\n"
   ]
  },
  {
   "cell_type": "code",
   "execution_count": 9,
   "metadata": {},
   "outputs": [
    {
     "data": {
      "text/plain": [
       "True"
      ]
     },
     "execution_count": 9,
     "metadata": {},
     "output_type": "execute_result"
    }
   ],
   "source": [
    "\"tigers\" in animals"
   ]
  },
  {
   "cell_type": "code",
   "execution_count": 12,
   "metadata": {},
   "outputs": [
    {
     "data": {
      "text/plain": [
       "'MOUNTAINS'"
      ]
     },
     "execution_count": 12,
     "metadata": {},
     "output_type": "execute_result"
    }
   ],
   "source": [
    "\"Mountains\".upper()\n"
   ]
  },
  {
   "cell_type": "code",
   "execution_count": 11,
   "metadata": {},
   "outputs": [
    {
     "data": {
      "text/plain": [
       "'mountains'"
      ]
     },
     "execution_count": 11,
     "metadata": {},
     "output_type": "execute_result"
    }
   ],
   "source": [
    "\"Mountains\".lower()"
   ]
  },
  {
   "cell_type": "code",
   "execution_count": 13,
   "metadata": {},
   "outputs": [
    {
     "data": {
      "text/plain": [
       "'yes'"
      ]
     },
     "execution_count": 13,
     "metadata": {},
     "output_type": "execute_result"
    }
   ],
   "source": [
    "\" yes \".strip()"
   ]
  },
  {
   "cell_type": "code",
   "execution_count": 14,
   "metadata": {},
   "outputs": [
    {
     "data": {
      "text/plain": [
       "4"
      ]
     },
     "execution_count": 14,
     "metadata": {},
     "output_type": "execute_result"
    }
   ],
   "source": [
    "\"The number of times e occurs in this string is 4\".count(\"e\")"
   ]
  },
  {
   "cell_type": "code",
   "execution_count": 15,
   "metadata": {},
   "outputs": [
    {
     "data": {
      "text/plain": [
       "True"
      ]
     },
     "execution_count": 15,
     "metadata": {},
     "output_type": "execute_result"
    }
   ],
   "source": [
    "\"Forest\".isnumeric()\n",
    "\"12345\".isnumeric()"
   ]
  },
  {
   "cell_type": "code",
   "execution_count": 17,
   "metadata": {},
   "outputs": [
    {
     "name": "stdout",
     "output_type": "stream",
     "text": [
      "This is a phrase joined by spaces\n"
     ]
    },
    {
     "data": {
      "text/plain": [
       "'This...is...a...phrase...joined...by...triple...dots'"
      ]
     },
     "execution_count": 17,
     "metadata": {},
     "output_type": "execute_result"
    }
   ],
   "source": [
    "print(\" \".join([\"This\", \"is\", \"a\", \"phrase\", \"joined\", \"by\", \"spaces\"])\n",
    ")\n",
    "\"...\".join([\"This\", \"is\", \"a\", \"phrase\", \"joined\", \"by\", \"triple\", \"dots\"])"
   ]
  },
  {
   "cell_type": "code",
   "execution_count": 18,
   "metadata": {},
   "outputs": [
    {
     "data": {
      "text/plain": [
       "['This', 'is', 'another', 'example']"
      ]
     },
     "execution_count": 18,
     "metadata": {},
     "output_type": "execute_result"
    }
   ],
   "source": [
    "\"This is another example\".split()"
   ]
  },
  {
   "cell_type": "markdown",
   "metadata": {},
   "source": [
    "# Formatting strings\n",
    "You can also put a formatting expression inside the curly brackets, which lets you alter the way the string is formatted. For example, the formatting expression `{:.2f}` means that you’d format this as a float number, with two digits after the decimal dot. The colon acts as a separator from the field name, if you had specified one. You can also specify text alignment using the greater than operator`: >.` For example, the expression` {:>3.2f}` would align the text three spaces to the right, as well as specify a float number with two decimal places. String formatting can be very handy for outputting easy-to-read textual output."
   ]
  },
  {
   "cell_type": "code",
   "execution_count": 21,
   "metadata": {},
   "outputs": [
    {
     "name": "stdout",
     "output_type": "stream",
     "text": [
      "Hello Manny, your lucky number is 15\n",
      "Your lucky number is 15, Manny.\n"
     ]
    }
   ],
   "source": [
    "name = \"Manny\"\n",
    "number = len(name) * 3\n",
    "print(\"Hello {}, your lucky number is {}\".format(name, number))\n",
    "\n",
    "name = \"Manny\"\n",
    "print(\"Your lucky number is {number}, {name}.\".format(name=name, number=len(name)*3))\n",
    "\n",
    "price = 7.5\n",
    "with_tax = price * 1.09\n",
    "print(price, with_tax)\n",
    "print(\"Base price: ${:.2f}. With Tax: ${:.2f}\".format(price, with_tax))"
   ]
  },
  {
   "cell_type": "code",
   "execution_count": 22,
   "metadata": {},
   "outputs": [
    {
     "name": "stdout",
     "output_type": "stream",
     "text": [
      "  0 F | -17.78 C\n",
      " 10 F | -12.22 C\n",
      " 20 F |  -6.67 C\n",
      " 30 F |  -1.11 C\n",
      " 40 F |   4.44 C\n",
      " 50 F |  10.00 C\n",
      " 60 F |  15.56 C\n",
      " 70 F |  21.11 C\n",
      " 80 F |  26.67 C\n",
      " 90 F |  32.22 C\n",
      "100 F |  37.78 C\n"
     ]
    }
   ],
   "source": [
    "def to_celsius(x):\n",
    "  return (x-32)*5/9\n",
    "\n",
    "for x in range(0,101,10):\n",
    "  print(\"{:>3} F | {:>6.2f} C\".format(x, to_celsius(x)))"
   ]
  },
  {
   "cell_type": "markdown",
   "metadata": {},
   "source": [
    "# Formatting strings reference guide\n"
   ]
  },
  {
   "cell_type": "code",
   "execution_count": 24,
   "metadata": {},
   "outputs": [
    {
     "name": "stdout",
     "output_type": "stream",
     "text": [
      "Subtotal: 27.245\n",
      "Sales Tax: 1.8049812500000002\n",
      "Total: 29.049981250000002\n"
     ]
    }
   ],
   "source": [
    "# Here are the items in the customer's basket. Each item is a tuple\n",
    "# of (item name, weight, price per pound).\n",
    "#\n",
    "basket = [\n",
    "    (\"Peaches\", 3.0, 2.99),\n",
    "    (\"Pears\", 5.0, 1.66),\n",
    "    (\"Plums\", 2.5, 3.99)\n",
    "]\n",
    "\n",
    "\n",
    "# Calculate the total price for each item (weight times price per pound)\n",
    "# and add them up to get a subtotal.\n",
    "#\n",
    "subtotal = 0.00\n",
    "for item in basket:\n",
    "    fruit, weight, unit_price = item\n",
    "    subtotal += (weight * unit_price)\n",
    "\n",
    "\n",
    "# Now calculate the sales tax and total bill.\n",
    "#\n",
    "tax_rate = 0.06625 # 6.625% sales tax in New Jersey\n",
    "tax_amt = subtotal * tax_rate\n",
    "total = subtotal + tax_amt\n",
    "\n",
    "\n",
    "# Print the receipt for the customer.\n",
    "#\n",
    "print(\"Subtotal:\", subtotal)\n",
    "print(\"Sales Tax:\", tax_amt)\n",
    "print(\"Total:\", total)"
   ]
  },
  {
   "cell_type": "markdown",
   "metadata": {},
   "source": [
    "\n",
    "# Knowledge\n",
    "## String Operations and Methods\n",
    "- `.format()` - String method that can be used to concatenate and format strings. \n",
    "\n",
    "     - `{:.2f}` - Within the .format() method, limits a floating point variable to 2 decimal places. The number of decimal places can be customized.\n",
    "\n",
    "- `len(string)` - String operation that returns the length of the string.\n",
    "\n",
    "- `string[x]` - String operation that accesses the character at index [x] of the string, where indexing starts at zero.\n",
    "\n",
    "- `string[x:y]` - String operation that accesses a substring starting at index [x] and ending at index [y-1]. If x is omitted, its value defaults to 0. If y is omitted, the value will default to len(string).\n",
    "\n",
    "- `string.replace(old, new)` - String method that returns a new string where all occurrences of an old substring have been replaced by a new substring.\n",
    "\n",
    "- `string.lower()` - String method that returns a copy of the string with all lowercase characters."
   ]
  },
  {
   "cell_type": "markdown",
   "metadata": {},
   "source": []
  },
  {
   "cell_type": "markdown",
   "metadata": {},
   "source": [
    " ### Skill Group 1 \n",
    "- Use the `.replace()` method to replace part of a string.  \n",
    "\n",
    "- Use the `len()` function to get the number of index positions in a string.\n",
    "\n",
    "- Slice a `string` at a specific index position."
   ]
  },
  {
   "cell_type": "code",
   "execution_count": 25,
   "metadata": {},
   "outputs": [
    {
     "name": "stdout",
     "output_type": "stream",
     "text": [
      "Last year’s annual report will be released in March 2024\n",
      "In April, the CEO will hold a conference\n",
      "The convention is scheduled for June\n"
     ]
    }
   ],
   "source": [
    "# This function checks a given schedule entry for an old date and, if \n",
    "# found, the function replaces it with a new date. \n",
    "def replace_date(schedule, old_date, new_date):\n",
    "\n",
    "    # Check if the given \"old_date\" appears at the end of the given \n",
    "    # string variable \"schedule\". \n",
    "    if schedule.endswith(old_date):\n",
    "\n",
    "        # If True, the body of the if-block will run. The variable \"p\" is\n",
    "        # used to hold the slicing index position. The len() function\n",
    "        # is used to measure the length of the string \"old_date\".\n",
    "        p = len(old_date)\n",
    "\n",
    "        # The \"new_schedule\" string holds the updated string with the \n",
    "        # old date replaced by the new date. The schedule[:-p] part of \n",
    "        # the code trims the \"old_date\" substring from \"schedule\" \n",
    "        # starting at the final index position (or right-side) counting\n",
    "        # towards the left the same number of index positions as \n",
    "        # calculated from len(old_date). Then, the code schedule[-p:]\n",
    "        # starts the indexing position at the slot where the first\n",
    "        # character of the \"old_date\" used to be positioned. The \n",
    "        # .replace(old_date, new_date) code inserts the \"new_date\" into\n",
    "        # the position where the \"old_date\" used to exist.  \n",
    "        new_schedule = schedule[:-p] + schedule[-p:].replace(old_date, new_date)\n",
    "\n",
    "        # Returns the schedule with the new date.\n",
    "        return new_schedule\n",
    "        \n",
    "    # If the schedule does not end with the old date, then return the\n",
    "    # original sentence without any modifications.\n",
    "    return schedule\n",
    " \n",
    " \n",
    "print(replace_date(\"Last year’s annual report will be released in March 2023\", \"2023\", \"2024\")) \n",
    "# Should display \"Last year’s annual report will be released in March 2024\"\n",
    "print(replace_date(\"In April, the CEO will hold a conference\", \"April\", \"May\")) \n",
    "# Should display \"In April, the CEO will hold a conference\"\n",
    "print(replace_date(\"The convention is scheduled for October\", \"October\", \"June\")) \n",
    "# Should display \"The convention is scheduled for June\""
   ]
  },
  {
   "cell_type": "code",
   "execution_count": null,
   "metadata": {},
   "outputs": [],
   "source": []
  }
 ],
 "metadata": {
  "kernelspec": {
   "display_name": "Python 3",
   "language": "python",
   "name": "python3"
  },
  "language_info": {
   "codemirror_mode": {
    "name": "ipython",
    "version": 3
   },
   "file_extension": ".py",
   "mimetype": "text/x-python",
   "name": "python",
   "nbconvert_exporter": "python",
   "pygments_lexer": "ipython3",
   "version": "3.12.4"
  }
 },
 "nbformat": 4,
 "nbformat_minor": 2
}

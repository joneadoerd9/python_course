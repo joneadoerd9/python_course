{
 "cells": [
  {
   "cell_type": "markdown",
   "metadata": {},
   "source": [
    "## Knowledge\n",
    "Python dictionaries are used to organize elements into collections. Dictionaries include one or more keys, with one or more values associated with each key. \n",
    "\n",
    "# Syntax\n",
    "```python\n",
    "my_dictionary = {\"keyA\":[\"value1\", \"value2\"], \"keyB\":[\"value3\", \"value4\"]}\n",
    "```"
   ]
  },
  {
   "cell_type": "markdown",
   "metadata": {},
   "source": [
    "## Operations\n",
    "- **len(dictionary)** - Returns the number of items in a dictionary.\n",
    "\n",
    "- **for key, in dictionary** - Iterates over each key in a dictionary.\n",
    "\n",
    "- **for key, value in dictionary.items()** - Iterates over each key,value pair in a dictionary.\n",
    "\n",
    "- **if key in dictionary**- Checks whether a key is in a dictionary.\n",
    "\n",
    "- **dictionary[key]** - Accesses a value using the associated key from a dictionary.\n",
    "\n",
    "- **dictionary[key]** = value - Sets a value associated with a key.\n",
    "\n",
    "- **del dictionary[key]** - Removes a value using the associated key from a dictionary."
   ]
  },
  {
   "cell_type": "markdown",
   "metadata": {},
   "source": [
    "## Methods\n",
    "**dictionary.get(key, default)** - Returns the value corresponding to a key, or the default value if the specified key is not present.\n",
    "\n",
    "**dictionary.keys()** - Returns a sequence containing the keys in a dictionary.\n",
    "\n",
    "**dictionary.values()** - Returns a sequence containing the values in a dictionary.\n",
    "\n",
    "**dictionary[key].append(value)** - Appends a new value for an existing key.\n",
    "\n",
    "**dictionary.update(other_dictionary)** - Updates a dictionary with the items from another dictionary. Existing entries are updated; new entries are added.\n",
    "\n",
    "**dictionary.clear()** - Deletes all items from a dictionary.\n",
    "\n",
    "**dictionary.copy()** - Makes a copy of a dictionary."
   ]
  },
  {
   "cell_type": "markdown",
   "metadata": {},
   "source": [
    "# Dictionary Example:"
   ]
  },
  {
   "cell_type": "code",
   "execution_count": null,
   "metadata": {},
   "outputs": [],
   "source": [
    "pet_dictionary = {\"dogs\": [\"Yorkie\", \"Collie\", \"Bulldog\"], \"cats\": [\"Persian\", \"Scottish Fold\", \"Siberian\"], \"rabbits\": [\"Angora\", \"Holland Lop\", \"Harlequin\"]}  \n",
    "\n",
    "\n",
    "print(pet_dictionary.get(\"dogs\", 0))\n",
    "# Should print ['Yorkie', 'Collie', 'Bulldog']\n"
   ]
  },
  {
   "cell_type": "code",
   "execution_count": null,
   "metadata": {},
   "outputs": [],
   "source": []
  }
 ],
 "metadata": {
  "kernelspec": {
   "display_name": "Python 3",
   "language": "python",
   "name": "python3"
  },
  "language_info": {
   "name": "python",
   "version": "3.12.4"
  }
 },
 "nbformat": 4,
 "nbformat_minor": 2
}

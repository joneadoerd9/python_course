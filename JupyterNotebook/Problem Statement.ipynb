{
 "cells": [
  {
   "cell_type": "markdown",
   "metadata": {},
   "source": [
    "## Imagine this scenario:\n",
    "\n",
    " Every month, you are handed a spreadsheet with hundreds of new hires. You are asked to create user accounts for all of them on a Linux server. The formatting on the spreadsheet looks like this:\n",
    "\n",
    "**username,password,real_name**\n",
    "\n",
    "**amanda,,Amanda Alonso**\n",
    "\n",
    "**ian,,Ian Ortega**\n",
    "\n",
    "**eugene,,Eugene Konya**\n",
    "\n",
    "\n",
    "\n",
    "Notice that the password field is empty for all the records. This means you need to generate random passwords for each user and then create their accounts. You also want to write the passwords that you generate back to a new CSV file so that you can tell the new employees their passwords. \n",
    "\n",
    "This task isn’t difficult, but it is time-intensive if you create passwords and accounts for the hundreds of new hires one by one. Your solution is to automate this task in Python."
   ]
  },
  {
   "cell_type": "markdown",
   "metadata": {},
   "source": []
  }
 ],
 "metadata": {
  "language_info": {
   "name": "python"
  }
 },
 "nbformat": 4,
 "nbformat_minor": 2
}

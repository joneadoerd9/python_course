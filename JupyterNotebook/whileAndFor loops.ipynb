{
 "cells": [
  {
   "cell_type": "markdown",
   "metadata": {},
   "source": [
    "# `while` loops\n",
    "A while loop executes the body of the loop while a specified condition remains `True`. \n",
    "They are commonly used when there’s an unknown number of operations to be performed, and a condition needs to be checked at each iteration.\n",
    "\n",
    "Syntax:\n",
    "```python\n",
    "while specified condition is True:\n",
    "    body of loop \n",
    "```"
   ]
  },
  {
   "cell_type": "markdown",
   "metadata": {},
   "source": [
    "# Coding skills\n",
    "The following are sample skill areas to study for while loops.\n",
    "\n",
    "## Skill group 1\n",
    "- Initialize a variable\n",
    "\n",
    "- Use a `while` loop that runs while a specific condition is true\n",
    "\n",
    "- Ensure the `while` loop will not be an infinite loop\n",
    "\n",
    "- Increment a value within a `while` loop"
   ]
  },
  {
   "cell_type": "code",
   "execution_count": null,
   "metadata": {},
   "outputs": [],
   "source": [
    "# This function counts the number of integer factors for a \n",
    "# \"given_number\" variable, passed through the function’s parameters.\n",
    "# The \"count\" return value includes the \"given_number\" itself as a \n",
    "# factor (n*1). \n",
    "def count_factors(given_number):\n",
    "\n",
    "    # To include the \"given_number\" variable as a \"factor\", initialize\n",
    "    # the \"factor\" variable with the value 1 (if the \"factor\" variable\n",
    "    # were to start at 2, the \"given_number\" itself would be excluded). \n",
    "    factor = 1\n",
    "    count = 1\n",
    "\n",
    "    # This \"if\" block will run if the \"given_number\" equals 0.\n",
    "    if given_number == 0:\n",
    "        # If True, the return value will be 0 factors. \n",
    "        return 0\n",
    "\n",
    "    # The while loop will run while the \"factor\" is still less than\n",
    "    # the \"given_number\" variable.\n",
    "    while factor < given_number:\n",
    "        # This \"if\" block checks if the \"given_number\" can be divided by\n",
    "        # the \"factor\" variable without leaving a remainder. The modulo\n",
    "        # operator % is used to test for a remainder.\n",
    "        if given_number % factor == 0:\n",
    "            # If True, then the \"factor\" variable is added to the count of\n",
    "            # the \"given_number\"’s integer factors.\n",
    "            count += 1\n",
    "        # When exiting the if block, increment the \"factor\" variable by 1\n",
    "        # to divide the \"given_number\" variable by a new \"factor\" value\n",
    "        # inside the while loop.\n",
    "        factor += 1\n",
    "\n",
    "    # When the interpreter exits either the while loop or the top if\n",
    "    # block, it will return the value of the \"count\" variable.\n",
    "    return count\n",
    "\n",
    "\n",
    "print(count_factors(0)) # Count value should be 0\n",
    "print(count_factors(3)) # Should count 2 factors (1x3)\n",
    "print(count_factors(10)) # Should count 4 factors (1x10, 2x5)\n",
    "print(count_factors(24)) # Should count 8 factors (1x24, 2x12, 3x8, and 4x6)."
   ]
  },
  {
   "cell_type": "markdown",
   "metadata": {},
   "source": [
    "## Skill group 2\n",
    "- Initialize variables to assign data types before they are used in a `while` loop \n",
    "\n",
    "- Use the `break` keyword as an exit point for a `while` loop"
   ]
  },
  {
   "cell_type": "code",
   "execution_count": null,
   "metadata": {},
   "outputs": [],
   "source": [
    "# This function outputs an addition table. It is written to end after\n",
    "# printing 5 lines of the addition table, but it will break out of the\n",
    "# loop if the \"my_sum\" variable exceeds 20.\n",
    "\n",
    "# The function accepts a \"given_number\" variable through its\n",
    "# parameters.\n",
    "def addition_table(given_number):\n",
    "\n",
    "\t# The \"iterated_number\" and \"my_sum\" variables are initialized with\n",
    "\t# the value of 1. Although the \"my_sum\" variable does not need any\n",
    "\t# specific initial value, it still must be assigned a data type\n",
    "\t# before being used in the while loop. By initializing \"my_sum\"\n",
    "\t# with any integer, the data type will be set to int.\n",
    "\titerated_number = 1\n",
    "\tmy_sum = 1\n",
    "\n",
    "\t# The while loop will run while it is True that the\n",
    "\t# \"iterated_number\" is less than or equal to 5.\n",
    "\twhile iterated_number <= 5:\n",
    "\n",
    "\t\t# The \"my_sum\" variable is assigned the value of the\n",
    "\t\t# \"given_number\" plus the \"iterated_number\" variables.\n",
    "\t\tmy_sum = given_number + iterated_number\n",
    "\n",
    "\t\t# Test to see if the \"my_sum\" variable is greater than 20.\n",
    "\t\tif my_sum > 20:\n",
    "\t\t\t# If True, then use the break keyword to exit the loop.\n",
    "\t\t\tbreak\n",
    "\n",
    "\t\t# If False, the Python interpreter will move to the next line\n",
    "\t\t# in the while loop after the if-statement has ended.\n",
    "\n",
    "\t\t# The print function will output the \"given_number\" plus\n",
    "\t\t# the \"iterated_number\" equals \"my_sum\".\n",
    "\t\tprint(str(given_number), \"+\", str(iterated_number), \"=\", str(my_sum))\n",
    "\n",
    "\t\t# Increment the \"iterated_number\" before the while loop starts\n",
    "\t\t# over again to print a new \"my_sum\" value.\n",
    "\t\titerated_number += 1\n",
    "\n",
    "\n",
    "addition_table(5)\n",
    "addition_table(17)\n",
    "addition_table(30)\n",
    "\n",
    "# Expected output:\n",
    "# 5 + 1 = 6\n",
    "# 5 + 2 = 7\n",
    "# 5 + 3 = 8\n",
    "# 5 + 4 = 9\n",
    "# 5 + 5 = 10\n",
    "# 17 + 1 = 18\n",
    "# 17 + 2 = 19\n",
    "# 17 + 3 = 20\n",
    "# None"
   ]
  },
  {
   "cell_type": "markdown",
   "metadata": {},
   "source": [
    "# What is a `for` loop?\n",
    "```python\n",
    "for x in range(5):\n",
    "    print(x)\n",
    "```\n",
    "---\n",
    "```python\n",
    "friends = ['Taylor', 'Alex', 'Pat', 'Eli']\n",
    "for friend in friends:\n",
    "    print(\"Hi \" + friend)\n",
    "```\n",
    "---\n",
    "```python\n",
    "values = [ 23, 52, 59, 37, 48 ]\n",
    "sum = 0\n",
    "length = 0\n",
    "for value in values:\n",
    "    sum += value\n",
    "    length += 1\n",
    "\n",
    "print(\"Total sum: \" + str(sum) + \" - Average: \" + str(sum/length))\n",
    "```"
   ]
  },
  {
   "cell_type": "markdown",
   "metadata": {},
   "source": [
    "## A Closer Look at the Range() Function\n",
    "The `in` keyword, when used with the `range()` function, generates a sequence of integer numbers, \n",
    "which can be used with a `for `loop to control the start point, the end point, and the incremental values of the loop.  \n",
    "\n",
    "```python\n",
    "for n in range(x, y, z):\n",
    "    print(n)\n",
    "\n",
    "```"
   ]
  },
  {
   "cell_type": "markdown",
   "metadata": {},
   "source": [
    "## Practice Exercise\n",
    "You can use the code block below to test the values of n with various range() parameters. A few suggestions to test are:\n",
    "\n",
    "- range(stop)\n",
    "\n",
    "    - range(3) \n",
    "\n",
    "    - range(3+1) \n",
    "\n",
    "- range(start, stop)\n",
    "\n",
    "    - range(2, 6)     \n",
    "\n",
    "    - range(5,10+1) \n",
    "\n",
    "- range(start, stop, step)\n",
    "\n",
    "    - range(4, 15+1, 2)         \n",
    "\n",
    "    - range(2*2, 25, 3+2) \n",
    "\n",
    "    - range(10, 0, -2)  "
   ]
  },
  {
   "cell_type": "code",
   "execution_count": null,
   "metadata": {},
   "outputs": [],
   "source": [
    "for n in range(1, 5, 6):  \n",
    "    print(\"first =\",n)"
   ]
  },
  {
   "cell_type": "code",
   "execution_count": null,
   "metadata": {},
   "outputs": [],
   "source": [
    "\n",
    "for n in range(0,11,2):\n",
    "    print(n, end=' ')"
   ]
  },
  {
   "cell_type": "code",
   "execution_count": null,
   "metadata": {},
   "outputs": [],
   "source": [
    "for x in range(2, -2, -1):\n",
    "     print(x)"
   ]
  },
  {
   "cell_type": "markdown",
   "metadata": {},
   "source": [
    "## Key takeaways\n",
    "The roles of the **range(start, stop, step)** function parameters are:\n",
    "\n",
    "**Start** - Beginning of range\n",
    "\n",
    "- value included in range\n",
    "\n",
    "- default = 0\n",
    "\n",
    "**Stop** - End of range\n",
    "\n",
    "- value excluded from range (to include, use stop+1)\n",
    "\n",
    "- no default\n",
    "\n",
    "- must provide the ending index number \n",
    "\n",
    "**Step** - Incremental value \n",
    "\n",
    "- default = 1\n",
    "  "
   ]
  },
  {
   "cell_type": "code",
   "execution_count": null,
   "metadata": {},
   "outputs": [],
   "source": [
    "greeting = 'Hello'\n",
    "for char in greeting:\n",
    "\tprint(char)"
   ]
  },
  {
   "cell_type": "code",
   "execution_count": null,
   "metadata": {},
   "outputs": [],
   "source": [
    "greeting = 'Hello'\n",
    "index = 0\n",
    "while index < len(greeting):\n",
    "\tprint(greeting[index])\n",
    "\tindex += 1"
   ]
  },
  {
   "cell_type": "code",
   "execution_count": null,
   "metadata": {},
   "outputs": [],
   "source": [
    "greeting = 'Hello'\n",
    "index = 0\n",
    "while index < len(greeting):\n",
    "    print(greeting[index:index+1])\n",
    "    index += 1"
   ]
  },
  {
   "cell_type": "markdown",
   "metadata": {},
   "source": [
    "# List comprehensions\n",
    "List comprehensions are a concise way to create lists in Python. Let’s look at an example:"
   ]
  },
  {
   "cell_type": "code",
   "execution_count": null,
   "metadata": {},
   "outputs": [],
   "source": [
    "numbers = [1, 2, 3, 4, 5]\n",
    "squared_numbers = [x ** 2 for x in numbers]\n",
    "print(squared_numbers)"
   ]
  },
  {
   "cell_type": "markdown",
   "metadata": {},
   "source": [
    "# Additional advanced string loop techniques\n",
    " techniques include the generator functions, `map()`,  and `zip()`. The `map()` and `zip() `"
   ]
  },
  {
   "cell_type": "markdown",
   "metadata": {},
   "source": [
    "# **Review**: Common errors in for loops"
   ]
  },
  {
   "cell_type": "markdown",
   "metadata": {},
   "source": [
    "```python\n",
    "for x in 25:\n",
    "    print(x)\n",
    "\n",
    "#this will produce an error\n",
    "```"
   ]
  },
  {
   "cell_type": "code",
   "execution_count": null,
   "metadata": {},
   "outputs": [],
   "source": [
    "def greet_friends(friends):\n",
    "    for friend in friends:\n",
    "        print(\"Hi \" + friend)\n",
    "\n",
    "greet_friends(['Taylor', 'Luisa', 'Jamaal', 'Eli'])"
   ]
  },
  {
   "cell_type": "code",
   "execution_count": null,
   "metadata": {},
   "outputs": [],
   "source": [
    "def greet_friends(friends):\n",
    "    for friend in friends:\n",
    "        print(\"Hi \" + friend)\n",
    "\n",
    "greet_friends(\"Barry\")"
   ]
  },
  {
   "cell_type": "code",
   "execution_count": null,
   "metadata": {},
   "outputs": [],
   "source": []
  }
 ],
 "metadata": {
  "kernelspec": {
   "display_name": "Python 3",
   "language": "python",
   "name": "python3"
  },
  "language_info": {
   "codemirror_mode": {
    "name": "ipython",
    "version": 3
   },
   "file_extension": ".py",
   "mimetype": "text/x-python",
   "name": "python",
   "nbconvert_exporter": "python",
   "pygments_lexer": "ipython3",
   "version": "3.12.4"
  }
 },
 "nbformat": 4,
 "nbformat_minor": 2
}

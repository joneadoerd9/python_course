{
 "cells": [
  {
   "cell_type": "markdown",
   "metadata": {},
   "source": [
    "# Terms\n",
    "expression - a combination of numbers, symbols, or other values that produce a result when evaluated\n",
    "\n",
    "data types - classes of data (e.g., string, int, float, Boolean, etc.), which include the properties and behaviors of instances of the data type (variables)\n",
    "\n",
    "variable - an instance of a data type class, represented by a unique name within the code, that stores changeable values of the specific data type\n",
    "\n",
    "implicit conversion - when the Python interpreter automatically converts one data type to another\n",
    "\n",
    "explicit conversion - when code is written to manually convert one data type to another using a data type conversion function:\n",
    "\n",
    "str() - converts a value (often numeric) to a string data type\n",
    "\n",
    "int() - converts a value (usually a float) to an integer data type\n",
    "\n",
    "float() - converts a value (usually an integer) to a float data type\n",
    "\n"
   ]
  },
  {
   "cell_type": "code",
   "execution_count": 8,
   "metadata": {},
   "outputs": [],
   "source": [
    "import typing\n",
    "# Define a variable of type str\n",
    "z: str = \"Hello, world!\"\n",
    "# Define a variable of type int\n",
    "x: int = 10\n",
    "# Define a variable of type float\n",
    "y: float = 1.23\n",
    "# Define a variable of type list\n",
    "list_of_numbers: typing.List[int] = [1, 2, 3]\n",
    "# Define a variable of type tuple\n",
    "tuple_of_numbers: typing.Tuple[int, int, int] = (1, 2, 3)\n",
    "# Define a variable of type dict\n",
    "dictionary: typing.Dict[str, int] = {\"key1\": 1, \"key2\": 2}\n",
    "# Define a variable of type set\n",
    "set_of_numbers: typing.Set[int] = {2, 2, 3}"
   ]
  },
  {
   "cell_type": "markdown",
   "metadata": {},
   "source": [
    "# Skill Group 1\n",
    "Use variables to store values\n",
    "\n",
    "Use basic arithmetic operators with variables to create expressions\n",
    "\n",
    "Use explicit conversion to change a data type from float to string"
   ]
  },
  {
   "cell_type": "code",
   "execution_count": 2,
   "metadata": {},
   "outputs": [
    {
     "name": "stdout",
     "output_type": "stream",
     "text": [
      "Each person needs to pay: 27.0\n"
     ]
    }
   ],
   "source": [
    "# The following lines assign the variable to the left of the = \n",
    "# assignment operator with the values and arithmetic expressions \n",
    "# on the right side of the = assignment operator.\n",
    "hotel_room = 100\n",
    "tax = hotel_room * 0.08\n",
    "total = hotel_room + tax\n",
    "room_guests = 4\n",
    "share_per_person = total/room_guests\n",
    "\n",
    "\n",
    "# This line outputs the result of the final calculation stored\n",
    "# in the variable \"share_per_person\"\n",
    "print(\"Each person needs to pay: \" + str(share_per_person)) # change a data type"
   ]
  },
  {
   "cell_type": "markdown",
   "metadata": {},
   "source": [
    "# Skill Group 2\n",
    "Output multiple string variables on a single line to form a sentence\n",
    "\n",
    "Use the plus (+) connector or a comma to connect strings in a print() function\n",
    "\n",
    "Create spaces between variables in  a print() function"
   ]
  },
  {
   "cell_type": "code",
   "execution_count": 5,
   "metadata": {},
   "outputs": [
    {
     "name": "stdout",
     "output_type": "stream",
     "text": [
      "Dr. Prisha Jai Agarwal, Ph.D.\n",
      "Dr. Prisha Jai Agarwal , Ph.D.\n"
     ]
    }
   ],
   "source": [
    "# The following 5 lines assign strings to a list of variables.\n",
    "salutation = \"Dr.\"\n",
    "first_name = \"Prisha\"\n",
    "middle_name = \"Jai\"\n",
    "last_name = \"Agarwal\"\n",
    "suffix = \"Ph.D.\"\n",
    " \n",
    "print(salutation + \" \" + first_name + \" \" + middle_name + \" \" + last_name + \", \" + suffix) \n",
    "# The comma as a string \", \" adds the conventional use of a comma plus a \n",
    "# space to separate the last name from the suffix.\n",
    " \n",
    "# Alternatively, you could use commas in place of the + connector:\n",
    "print(salutation, first_name, middle_name, last_name,\",\", suffix)\n",
    "# However, you will find that this produces a space before a comma within a string."
   ]
  },
  {
   "cell_type": "markdown",
   "metadata": {},
   "source": [
    "# Skill Group 3\n",
    "Resolve TypeError caused by a data type mismatch issue\n",
    "\n",
    "Use an explicit conversion function"
   ]
  },
  {
   "cell_type": "code",
   "execution_count": null,
   "metadata": {},
   "outputs": [],
   "source": [
    "# The following code causes a type error between a string \n",
    "# and an integer:\n",
    "\n",
    "print(\"5 * 3 = \" + (5*3)) \n",
    "\n",
    "\n",
    "# Resolution: \n",
    "# print(\"5 * 3 = \" + str(5*3))\n",
    "#\n",
    "# To avoid a type error between the string and the integer within the\n",
    "# print() function, you can make an explicit data type conversion by\n",
    "# using the str() function to convert the integer to a string.  "
   ]
  },
  {
   "cell_type": "markdown",
   "metadata": {},
   "source": [
    "# Skill Group 4\n",
    "Resolve a ZeroDivisionError caused by an attempt to divide by 0"
   ]
  },
  {
   "cell_type": "code",
   "execution_count": null,
   "metadata": {},
   "outputs": [],
   "source": [
    "numerator = 7\n",
    "denominator = 0   # Possible resolution: Change the denominator value \n",
    "result = numerator / denominator\n",
    "print(result)\n",
    "\n",
    "\n",
    "# One possible assumption for a number divided by zero error might\n",
    "# include the issue of a null value as a denominator (could happen when\n",
    "# using a loop to iterate over values in a database). In such cases, the\n",
    "# desired outcome may be to leave the numerator value intact. The\n",
    "# numerator value can be preserved by reassigning the denominator with \n",
    "# the integer value of 1. The result would then equal the numerator."
   ]
  }
 ],
 "metadata": {
  "kernelspec": {
   "display_name": "Python 3",
   "language": "python",
   "name": "python3"
  },
  "language_info": {
   "codemirror_mode": {
    "name": "ipython",
    "version": 3
   },
   "file_extension": ".py",
   "mimetype": "text/x-python",
   "name": "python",
   "nbconvert_exporter": "python",
   "pygments_lexer": "ipython3",
   "version": "3.11.4"
  }
 },
 "nbformat": 4,
 "nbformat_minor": 2
}

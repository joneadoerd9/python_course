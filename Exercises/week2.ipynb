{
 "cells": [
  {
   "cell_type": "markdown",
   "metadata": {},
   "source": [
    "# Quiz: Implementing a `Pythonic Card Deck`\n",
    "\n",
    "### Objective: Implement a CardDeck class in Python that uses the special methods `__getitem__` and `__len__`.\n",
    "\n",
    "#### Description:\n",
    "You are required to implement a CardDeck class that represents a deck of playing cards. The deck should support the following operations:\n",
    "\n",
    "- Accessing a card by its index.\n",
    "- Determining the number of cards in the deck.\n",
    "- Requirements:\n",
    "\n",
    "- Implement the CardDeck class.\n",
    "- The class should have a __getitem__ method to retrieve a card by index.\n",
    "- The class should have a __len__ method to return the number of cards in the deck.\n",
    "#### Hints:\n",
    "\n",
    "- A standard deck of cards has 52 cards.\n",
    "- Each card can be represented as a tuple of (rank, suit).\n",
    "- Ranks are: '2', '3', '4', '5', '6', '7', '8', '9', '10', 'J', 'Q', 'K', 'A'.\n",
    "- Suits are: 'hearts', 'diamonds', 'clubs', 'spades'."
   ]
  },
  {
   "cell_type": "markdown",
   "metadata": {},
   "source": [
    "## Example Usage:\n",
    "```python\n",
    "deck = CardDeck()\n",
    "print(len(deck))  # Output: 52\n",
    "print(deck[0])    # Output: ('2', 'hearts')\n",
    "print(deck[-1])   # Output: ('A', 'spades')\n",
    "```"
   ]
  },
  {
   "cell_type": "code",
   "execution_count": null,
   "metadata": {},
   "outputs": [],
   "source": [
    "class CardDeck:\n",
    "    ranks = [str(n) for n in range(2, 11)] + list('JQKA')\n",
    "    suits = 'hearts diamonds clubs spades'.split()\n",
    "    \n",
    "    def __init__(self):\n",
    "        self.cards = [(rank, suit) for suit in self.suits for rank in self.ranks]\n",
    "    \n",
    "    # Your code goes here\n",
    "\n",
    "# Uncomment the following lines to test your class:\n",
    "# deck = CardDeck()\n",
    "# print(len(deck))  # Output should be 52\n",
    "# print(deck[0])    # Output should be ('2', 'hearts')\n",
    "# print(deck[-1])   # Output should be ('A', 'spades')\n"
   ]
  },
  {
   "cell_type": "code",
   "execution_count": null,
   "metadata": {},
   "outputs": [],
   "source": [
    "import collections\n",
    "Card = collections.namedtuple('Card', ['rank', 'suit'])\n",
    "class FrenchDeck:\n",
    "    ranks = [str(n) for n in range(2, 11)] + list(\"JQKA\")\n",
    "    suits = \"spades diamonds clubs hearts\".split()\n",
    "\n",
    "    def __init__(self):\n",
    "        self._cards = [Card(rank, suit) for suit in self.suits for rank in self.ranks]\n",
    "\n",
    "    def __len__(self):\n",
    "        return len(self._cards)\n",
    "\n",
    "    def __getitem__(self, position):\n",
    "        return self._cards[position]\n",
    "\n",
    "\n",
    "deck = FrenchDeck()\n",
    "print(len(deck)) \n",
    "print(deck[0])\n",
    "print(deck[:3])\n",
    "print(deck[12::13])\n",
    "\n",
    "\n"
   ]
  },
  {
   "cell_type": "code",
   "execution_count": null,
   "metadata": {},
   "outputs": [],
   "source": [
    "from random import choice\n",
    "d=choice(deck)\n",
    "print(deck)\n",
    "print(d)\n",
    "deck[0]"
   ]
  },
  {
   "cell_type": "code",
   "execution_count": null,
   "metadata": {},
   "outputs": [],
   "source": []
  }
 ],
 "metadata": {
  "kernelspec": {
   "display_name": "base",
   "language": "python",
   "name": "python3"
  },
  "language_info": {
   "codemirror_mode": {
    "name": "ipython",
    "version": 3
   },
   "file_extension": ".py",
   "mimetype": "text/x-python",
   "name": "python",
   "nbconvert_exporter": "python",
   "pygments_lexer": "ipython3",
   "version": "3.11.4"
  }
 },
 "nbformat": 4,
 "nbformat_minor": 2
}

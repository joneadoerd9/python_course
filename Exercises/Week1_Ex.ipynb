{
 "cells": [
  {
   "cell_type": "markdown",
   "metadata": {},
   "source": [
    "# Week 1, Session 1: New Practice Exercises\n",
    "\n",
    "## Exercise 1: Greeting Message\n",
    "\n",
    "Write a program that asks the user for their first name and last name, then prints a message saying \"Hello, [First Name] [Last Name]! Welcome to Python programming.\"\n",
    "\n",
    "## Exercise 2: Age in Months\n",
    "\n",
    "Write a program that asks the user for their age in years and calculates and prints their age in months (assume 12 months per year).\n",
    "\n",
    "## Exercise 3: Temperature Converter\n",
    "\n",
    "Write a program that converts temperature from Celsius to Fahrenheit. Ask the user for the temperature in Celsius and print the temperature in Fahrenheit. Use the formula: `Fahrenheit = (Celsius * 9/5) + 32`.\n",
    "\n",
    "## Exercise 4: Rectangle Area and Perimeter\n",
    "\n",
    "Write a program that asks the user for the length and width of a rectangle. Calculate and print the area and perimeter of the rectangle. Use the formulas:\n",
    "- Area = length * width\n",
    "- Perimeter = 2 * (length + width)\n",
    "\n",
    "## Exercise 5: Even or Odd\n",
    "\n",
    "Write a program that asks the user for a number and prints whether the number is even or odd.\n"
   ]
  },
  {
   "cell_type": "code",
   "execution_count": null,
   "metadata": {},
   "outputs": [],
   "source": [
    "# Exercise 1: Greeting Message\n",
    "first_name = input(\"Enter your first name: \")\n",
    "last_name = input(\"Enter your last name: \")\n",
    "print(f\"Hello, {first_name} {last_name}! Welcome to Python programming.\")\n"
   ]
  },
  {
   "cell_type": "code",
   "execution_count": null,
   "metadata": {},
   "outputs": [],
   "source": [
    "# Exercise 2: Age in Months\n",
    "age_years = int(input(\"Enter your age in years: \"))\n",
    "age_months = age_years * 12\n",
    "print(f\"Your age in months is: {age_months}\")\n"
   ]
  },
  {
   "cell_type": "code",
   "execution_count": null,
   "metadata": {},
   "outputs": [],
   "source": [
    "# Exercise 3: Temperature Converter\n",
    "celsius = float(input(\"Enter temperature in Celsius: \"))\n",
    "fahrenheit = (celsius * 9/5) + 32\n",
    "print(f\"The temperature in Fahrenheit is: {fahrenheit}\")\n"
   ]
  },
  {
   "cell_type": "code",
   "execution_count": null,
   "metadata": {},
   "outputs": [],
   "source": [
    "# Exercise 4: Rectangle Area and Perimeter\n",
    "length = float(input(\"Enter the length of the rectangle: \"))\n",
    "width = float(input(\"Enter the width of the rectangle: \"))\n",
    "\n",
    "area = length * width\n",
    "perimeter = 2 * (length + width)\n",
    "\n",
    "print(f\"The area of the rectangle is: {area}\")\n",
    "print(f\"The perimeter of the rectangle is: {perimeter}\")\n"
   ]
  },
  {
   "cell_type": "code",
   "execution_count": null,
   "metadata": {},
   "outputs": [],
   "source": [
    "# Exercise 5: Even or Odd\n",
    "number = int(input(\"Enter a number: \"))\n",
    "\n",
    "if number % 2 == 0:\n",
    "    print(f\"{number} is even.\")\n",
    "else:\n",
    "    print(f\"{number} is odd.\")\n"
   ]
  }
 ],
 "metadata": {
  "kernelspec": {
   "display_name": "rptodo-project",
   "language": "python",
   "name": "python3"
  },
  "language_info": {
   "codemirror_mode": {
    "name": "ipython",
    "version": 3
   },
   "file_extension": ".py",
   "mimetype": "text/x-python",
   "name": "python",
   "nbconvert_exporter": "python",
   "pygments_lexer": "ipython3",
   "version": "3.11.4"
  }
 },
 "nbformat": 4,
 "nbformat_minor": 2
}

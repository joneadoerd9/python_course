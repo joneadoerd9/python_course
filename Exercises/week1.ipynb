{
 "cells": [
  {
   "cell_type": "markdown",
   "metadata": {},
   "source": [
    "# Week 1, Session 1: New Practice Exercises\n",
    "\n",
    "## Exercise 1: Greeting Message\n",
    "\n",
    "Write a program that asks the user for their first name and last name, then prints a message saying \"Hello, [First Name] [Last Name]! Welcome to Python programming.\"\n",
    "\n",
    "## Exercise 2: Age in Months\n",
    "\n",
    "Write a program that asks the user for their age in years and calculates and prints their age in months (assume 12 months per year).\n",
    "\n",
    "## Exercise 3: Temperature Converter\n",
    "\n",
    "Write a program that converts temperature from Celsius to Fahrenheit. Ask the user for the temperature in Celsius and print the temperature in Fahrenheit. Use the formula: `Fahrenheit = (Celsius * 9/5) + 32`.\n",
    "\n",
    "## Exercise 4: Rectangle Area and Perimeter\n",
    "\n",
    "Write a program that asks the user for the length and width of a rectangle. Calculate and print the area and perimeter of the rectangle. Use the formulas:\n",
    "- Area = length * width\n",
    "- Perimeter = 2 * (length + width)\n",
    "\n",
    "## Exercise 5: Even or Odd\n",
    "\n",
    "Write a program that asks the user for a number and prints whether the number is even or odd.\n"
   ]
  },
  {
   "cell_type": "code",
   "execution_count": null,
   "metadata": {},
   "outputs": [],
   "source": [
    "# Exercise 1: Greeting Message\n",
    "first_name = input(\"Enter your first name: \")\n",
    "last_name = input(\"Enter your last name: \")\n",
    "print(f\"Hello, {first_name} {last_name}! Welcome to Python programming.\")\n"
   ]
  },
  {
   "cell_type": "code",
   "execution_count": null,
   "metadata": {},
   "outputs": [],
   "source": [
    "# Exercise 2: Age in Months\n",
    "age_years = int(input(\"Enter your age in years: \"))\n",
    "age_months = age_years * 12\n",
    "print(f\"Your age in months is: {age_months}\")\n"
   ]
  },
  {
   "cell_type": "code",
   "execution_count": null,
   "metadata": {},
   "outputs": [],
   "source": [
    "# Exercise 3: Temperature Converter\n",
    "celsius = float(input(\"Enter temperature in Celsius: \"))\n",
    "fahrenheit = (celsius * 9/5) + 32\n",
    "print(f\"The temperature in Fahrenheit is: {fahrenheit}\")\n"
   ]
  },
  {
   "cell_type": "code",
   "execution_count": null,
   "metadata": {},
   "outputs": [],
   "source": [
    "# Exercise 3: Temperature Converter\n",
    "celsius = float(input(\"Enter temperature in Celsius: \"))\n",
    "fahrenheit = (celsius * 9/5) + 32\n",
    "print(f\"The temperature in Fahrenheit is: {fahrenheit}\")\n"
   ]
  },
  {
   "cell_type": "code",
   "execution_count": 3,
   "metadata": {},
   "outputs": [],
   "source": [
    "\n",
    "# Exercise 4: Rectangle Area and Perimeter\n",
    "length = float(input(\"Enter the length of the rectangle: \"))\n",
    "width = float(input(\"Enter the width of the rectangle: \"))\n",
    "\n",
    "area = length * width\n",
    "perimeter = 2 * (length + width)\n",
    "\n",
    "print(f\"The area of the rectangle is: {area}\")\n",
    "print(f\"The perimeter of the rectangle is: {perimeter}\")\n"
   ]
  },
  {
   "cell_type": "code",
   "execution_count": null,
   "metadata": {},
   "outputs": [],
   "source": [
    "# Exercise 5: Even or Odd\n",
    "number = int(input(\"Enter a number: \"))\n",
    "\n",
    "if number % 2 == 0:\n",
    "    print(f\"{number} is even.\")\n",
    "else:\n",
    "    print(f\"{number} is odd.\")\n"
   ]
  },
  {
   "cell_type": "markdown",
   "metadata": {},
   "source": [
    "## Practice Exercises\n",
    "\n",
    "### Exercise 1: List of Squares\n",
    "\n",
    "Write a program that creates a list of the squares of numbers from 1 to 10.\n",
    "\n",
    "### Exercise 2: List Operations\n",
    "\n",
    "Write a program that creates a list of five fruits, modifies the list by adding and removing elements, and prints the final list.\n",
    "\n",
    "### Exercise 3: Sum of List\n",
    "\n",
    "Write a program that takes a list of numbers and calculates the sum of all the numbers in the list.\n",
    "\n",
    "### Exercise 4: List Sorting\n",
    "\n",
    "Write a program that takes a list of numbers and prints the list in ascending and descending order.\n",
    "\n",
    "### Exercise 5: List Slicing\n",
    "\n",
    "Write a program that takes a list of numbers and prints different slices of the list.\n"
   ]
  },
  {
   "cell_type": "code",
   "execution_count": 1,
   "metadata": {},
   "outputs": [
    {
     "name": "stdout",
     "output_type": "stream",
     "text": [
      "[1, 4, 9, 16, 25, 36, 49, 64, 81, 100]\n"
     ]
    }
   ],
   "source": [
    "# Exercise 1: List of Squares\n",
    "squares = [x**2 for x in range(1, 11)]\n",
    "print(squares)  # Output: [1, 4, 9, 16, 25, 36, 49, 64, 81, 100]\n"
   ]
  },
  {
   "cell_type": "code",
   "execution_count": null,
   "metadata": {},
   "outputs": [],
   "source": [
    "# Exercise 2: List Operations\n",
    "fruits = [\"apple\", \"banana\", \"cherry\", \"date\", \"elderberry\"]\n",
    "print(\"Initial list:\", fruits)\n",
    "\n",
    "# Adding elements\n",
    "fruits.append(\"fig\")\n",
    "print(\"After appending 'fig':\", fruits)\n",
    "\n",
    "fruits.insert(2, \"grape\")\n",
    "print(\"After inserting 'grape' at index 2:\", fruits)\n",
    "\n",
    "# Removing elements\n",
    "del fruits[1]\n",
    "print(\"After deleting element at index 1:\", fruits)\n",
    "\n",
    "fruits.remove(\"date\")\n",
    "print(\"After removing 'date':\", fruits)\n"
   ]
  },
  {
   "cell_type": "code",
   "execution_count": null,
   "metadata": {},
   "outputs": [],
   "source": [
    "# Exercise 3: Sum of List\n",
    "numbers = [1, 2, 3, 4, 5]\n",
    "total = sum(numbers)\n",
    "print(f\"The sum of the list is: {total}\")  # Output: The sum of the list is: 15\n"
   ]
  },
  {
   "cell_type": "code",
   "execution_count": null,
   "metadata": {},
   "outputs": [],
   "source": [
    "# Exercise 4: List Sorting\n",
    "numbers = [3, 1, 4, 1, 5, 9, 2, 6, 5]\n",
    "print(\"Original list:\", numbers)\n",
    "\n",
    "numbers.sort()\n",
    "print(\"Sorted list (ascending):\", numbers)\n",
    "\n",
    "numbers.sort(reverse=True)\n",
    "print(\"Sorted list (descending):\", numbers)\n"
   ]
  },
  {
   "cell_type": "code",
   "execution_count": null,
   "metadata": {},
   "outputs": [],
   "source": [
    "# Exercise 5: List Slicing\n",
    "numbers = [0, 1, 2, 3, 4, 5, 6, 7, 8, 9]\n",
    "\n",
    "print(\"First three elements:\", numbers[:3])        # Output: [0, 1, 2]\n",
    "print(\"Last three elements:\", numbers[-3:])        # Output: [7, 8, 9]\n",
    "print(\"Elements from index 2 to 5:\", numbers[2:6]) # Output: [2, 3, 4, 5]\n",
    "print(\"Every second element:\", numbers[::2])       # Output: [0, 2, 4, 6, 8]\n"
   ]
  },
  {
   "cell_type": "markdown",
   "metadata": {},
   "source": [
    "## Practice Exercises\n",
    "\n",
    "### Exercise 1: Grade Checker\n",
    "\n",
    "Write a program that asks the user for their exam score and prints their grade based on the score. Use the following grading scale:\n",
    "- A: 90-100\n",
    "- B: 80-89\n",
    "- C: 70-79\n",
    "- D: 60-69\n",
    "- F: Below 60\n",
    "\n",
    "### Exercise 2: Number Guessing Game\n",
    "\n",
    "Write a program that generates a random number between 1 and 10 and asks the user to guess the number. The program should tell the user if their guess is too low, too high, or correct.\n",
    "\n",
    "### Exercise 3: Sum of Numbers\n",
    "\n",
    "Write a program that asks the user for a number `n` and calculates the sum of all numbers from 1 to `n`.\n",
    "\n",
    "### Exercise 4: Multiplication Table\n",
    "\n",
    "Write a program that prints the multiplication table (from 1 to 10) for a given number.\n",
    "\n",
    "### Exercise 5: List of Even Numbers\n",
    "\n",
    "Write a program that prints all even numbers between 1 and 50.\n"
   ]
  },
  {
   "cell_type": "code",
   "execution_count": null,
   "metadata": {},
   "outputs": [],
   "source": [
    "# Exercise 1: Grade Checker\n",
    "score = int(input(\"Enter your exam score: \"))\n",
    "\n",
    "if score >= 90:\n",
    "    grade = 'A'\n",
    "elif score >= 80:\n",
    "    grade = 'B'\n",
    "elif score >= 70:\n",
    "    grade = 'C'\n",
    "elif score >= 60:\n",
    "    grade = 'D'\n",
    "else:\n",
    "    grade = 'F'\n",
    "\n",
    "print(f\"Your grade is: {grade}\")\n"
   ]
  },
  {
   "cell_type": "code",
   "execution_count": null,
   "metadata": {},
   "outputs": [],
   "source": [
    "# Exercise 2: Number Guessing Game\n",
    "import random\n",
    "\n",
    "number_to_guess = random.randint(1, 10)\n",
    "user_guess = int(input(\"Guess the number between 1 and 10: \"))\n",
    "\n",
    "if user_guess < number_to_guess:\n",
    "    print(\"Too low!\")\n",
    "elif user_guess > number_to_guess:\n",
    "    print(\"Too high!\")\n",
    "else:\n",
    "    print(\"Correct! The number was\", number_to_guess)\n"
   ]
  },
  {
   "cell_type": "code",
   "execution_count": null,
   "metadata": {},
   "outputs": [],
   "source": [
    "# Exercise 3: Sum of Numbers\n",
    "n = int(input(\"Enter a number: \"))\n",
    "sum_numbers = sum(range(1, n + 1))\n",
    "print(f\"The sum of numbers from 1 to {n} is: {sum_numbers}\")\n"
   ]
  },
  {
   "cell_type": "code",
   "execution_count": null,
   "metadata": {},
   "outputs": [],
   "source": [
    "# Exercise 4: Multiplication Table\n",
    "number = int(input(\"Enter a number: \"))\n",
    "\n",
    "print(f\"Multiplication table for {number}:\")\n",
    "for i in range(1, 11):\n",
    "    print(f\"{number} x {i} = {number * i}\")\n"
   ]
  },
  {
   "cell_type": "code",
   "execution_count": null,
   "metadata": {},
   "outputs": [],
   "source": [
    "# Exercise 5: List of Even Numbers\n",
    "print(\"Even numbers between 1 and 50:\")\n",
    "for i in range(1, 51):\n",
    "    if i % 2 == 0:\n",
    "        print(i, end=\" \")\n"
   ]
  }
 ],
 "metadata": {
  "kernelspec": {
   "display_name": "base",
   "language": "python",
   "name": "python3"
  },
  "language_info": {
   "codemirror_mode": {
    "name": "ipython",
    "version": 3
   },
   "file_extension": ".py",
   "mimetype": "text/x-python",
   "name": "python",
   "nbconvert_exporter": "python",
   "pygments_lexer": "ipython3",
   "version": "3.11.4"
  }
 },
 "nbformat": 4,
 "nbformat_minor": 2
}

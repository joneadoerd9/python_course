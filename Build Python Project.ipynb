{
 "cells": [
  {
   "cell_type": "markdown",
   "metadata": {},
   "source": [
    "# **Set Up the Working Environment**\n",
    "Now you know how to manage multiple Python versions. Often, you’ll be working on multiple projects that need the same Python version."
   ]
  },
  {
   "cell_type": "markdown",
   "metadata": {},
   "source": [
    "1. ### **create project folder and enter it:** \n"
   ]
  },
  {
   "cell_type": "code",
   "execution_count": null,
   "metadata": {},
   "outputs": [],
   "source": [
    "!mkdir rptodo_project\n",
    "# !cd rptodo_project\n",
    "# !dir\n",
    "# !Powershell.exe -Command ls"
   ]
  },
  {
   "cell_type": "markdown",
   "metadata": {},
   "source": [
    "2. ### **create virtual Env**\n",
    "   ### **venv**\n",
    "`venv` ships with Python versions 3.3+. You can create virtual environments just by passing it a path at which to store the environment’s python, installed packages, and so on:\n",
    "\n",
    "```pwsh\n",
    "  python -m venv env --prompt \"my-project\"\n",
    "```\n",
    "\n",
    "You activate a virtual environment by sourcing its activate script:\n",
    "\n",
    "```pwsh\n",
    "  env/Scripts/activate\n",
    "\n",
    "  source env/Scripts/activate    \n",
    "```\n"
   ]
  },
  {
   "cell_type": "code",
   "execution_count": null,
   "metadata": {},
   "outputs": [],
   "source": [
    "!cd rptodo_project\n",
    "!python -m venv env --prompt \"my-project\"\n",
    "!env/Scripts/activate"
   ]
  },
  {
   "cell_type": "markdown",
   "metadata": {},
   "source": [
    "   ### **Conda**\n",
    "   // Create virtual environment\n",
    "```console\n",
    "   conda create --name rptodo-project --clone base\n",
    "   conda activate rptodo-project\n",
    "```\n"
   ]
  },
  {
   "cell_type": "markdown",
   "metadata": {},
   "source": []
  },
  {
   "cell_type": "code",
   "execution_count": null,
   "metadata": {},
   "outputs": [],
   "source": []
  }
 ],
 "metadata": {
  "kernelspec": {
   "display_name": "Python 3",
   "language": "python",
   "name": "python3"
  },
  "language_info": {
   "codemirror_mode": {
    "name": "ipython",
    "version": 3
   },
   "file_extension": ".py",
   "mimetype": "text/x-python",
   "name": "python",
   "nbconvert_exporter": "python",
   "pygments_lexer": "ipython3",
   "version": "3.12.4"
  }
 },
 "nbformat": 4,
 "nbformat_minor": 2
}
